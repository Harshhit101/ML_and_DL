{
 "cells": [
  {
   "cell_type": "code",
   "execution_count": 58,
   "id": "7c683662",
   "metadata": {},
   "outputs": [],
   "source": [
    "import tensorflow as tf\n",
    "import keras\n",
    "import numpy as np\n",
    "import matplotlib.pyplot as plt\n",
    "%matplotlib inline"
   ]
  },
  {
   "cell_type": "code",
   "execution_count": 2,
   "id": "1f949c08",
   "metadata": {},
   "outputs": [
    {
     "name": "stderr",
     "output_type": "stream",
     "text": [
      "2023-06-07 13:12:22.850932: W tensorflow/compiler/xla/stream_executor/platform/default/dso_loader.cc:64] Could not load dynamic library 'libcuda.so.1'; dlerror: libcuda.so.1: cannot open shared object file: No such file or directory\n",
      "2023-06-07 13:12:22.850967: W tensorflow/compiler/xla/stream_executor/cuda/cuda_driver.cc:265] failed call to cuInit: UNKNOWN ERROR (303)\n",
      "2023-06-07 13:12:22.850989: I tensorflow/compiler/xla/stream_executor/cuda/cuda_diagnostics.cc:156] kernel driver does not appear to be running on this host (harshit): /proc/driver/nvidia/version does not exist\n",
      "2023-06-07 13:12:22.851325: I tensorflow/core/platform/cpu_feature_guard.cc:193] This TensorFlow binary is optimized with oneAPI Deep Neural Network Library (oneDNN) to use the following CPU instructions in performance-critical operations:  AVX2 FMA\n",
      "To enable them in other operations, rebuild TensorFlow with the appropriate compiler flags.\n"
     ]
    }
   ],
   "source": [
    "str = tf.constant('hello')"
   ]
  },
  {
   "cell_type": "code",
   "execution_count": 3,
   "id": "bcdd9e4f",
   "metadata": {},
   "outputs": [
    {
     "name": "stdout",
     "output_type": "stream",
     "text": [
      "tf.Tensor(b'hello', shape=(), dtype=string)\n"
     ]
    }
   ],
   "source": [
    "print(str)"
   ]
  },
  {
   "cell_type": "code",
   "execution_count": 4,
   "id": "02936d98",
   "metadata": {},
   "outputs": [
    {
     "name": "stdout",
     "output_type": "stream",
     "text": [
      "b'hello'\n"
     ]
    }
   ],
   "source": [
    "print(str.numpy())"
   ]
  },
  {
   "cell_type": "code",
   "execution_count": 5,
   "id": "7c88d3b0",
   "metadata": {},
   "outputs": [],
   "source": [
    "a = tf.constant(2)\n",
    "b = tf.constant(3)\n",
    "c = tf.constant(5)"
   ]
  },
  {
   "cell_type": "code",
   "execution_count": 6,
   "id": "b921b96c",
   "metadata": {},
   "outputs": [
    {
     "name": "stdout",
     "output_type": "stream",
     "text": [
      "add = 5\n",
      "sub = -1\n",
      "mul = 6\n",
      "div = 0.6666666666666666\n"
     ]
    }
   ],
   "source": [
    "add = tf.add(a, b)\n",
    "sub = tf.subtract(a, b)\n",
    "mul = tf.multiply(a, b)\n",
    "div = tf.divide(a, b)\n",
    "\n",
    "# Access tensors value.\n",
    "print(\"add =\", add.numpy())\n",
    "print(\"sub =\", sub.numpy())\n",
    "print(\"mul =\", mul.numpy())\n",
    "print(\"div =\", div.numpy())"
   ]
  },
  {
   "cell_type": "code",
   "execution_count": 7,
   "id": "b04ab7ed",
   "metadata": {},
   "outputs": [
    {
     "name": "stdout",
     "output_type": "stream",
     "text": [
      "Mean = 3\n"
     ]
    }
   ],
   "source": [
    "Mean = tf.reduce_mean([a,b,c])\n",
    "print(\"Mean =\", Mean.numpy())"
   ]
  },
  {
   "cell_type": "code",
   "execution_count": 8,
   "id": "2cae7398",
   "metadata": {},
   "outputs": [],
   "source": [
    "# Matrix multiplications.\n",
    "matrix1 = tf.constant([[1., 2.], [3., 4.]])\n",
    "matrix2 = tf.constant([[5., 6.], [7., 8.]])\n",
    "\n",
    "product = tf.matmul(matrix1, matrix2)"
   ]
  },
  {
   "cell_type": "code",
   "execution_count": 9,
   "id": "72dcc8a4",
   "metadata": {},
   "outputs": [
    {
     "data": {
      "text/plain": [
       "array([[19., 22.],\n",
       "       [43., 50.]], dtype=float32)"
      ]
     },
     "execution_count": 9,
     "metadata": {},
     "output_type": "execute_result"
    }
   ],
   "source": [
    "product.numpy()"
   ]
  },
  {
   "cell_type": "code",
   "execution_count": 10,
   "id": "16b5a16b",
   "metadata": {},
   "outputs": [],
   "source": [
    "# Training Data.\n",
    "X = np.array([3.3,4.4,5.5,6.71,6.93,4.168,9.779,6.182,7.59,2.167,\n",
    "              7.042,10.791,5.313,7.997,5.654,9.27,3.1])\n",
    "Y = np.array([1.7,2.76,2.09,3.19,1.694,1.573,3.366,2.596,2.53,1.221,\n",
    "              2.827,3.465,1.65,2.904,2.42,2.94,1.3])"
   ]
  },
  {
   "cell_type": "code",
   "execution_count": 11,
   "id": "706b6b9a",
   "metadata": {},
   "outputs": [
    {
     "data": {
      "text/plain": [
       "(array([ 3.3  ,  4.4  ,  5.5  ,  6.71 ,  6.93 ,  4.168,  9.779,  6.182,\n",
       "         7.59 ,  2.167,  7.042, 10.791,  5.313,  7.997,  5.654,  9.27 ,\n",
       "         3.1  ]),\n",
       " array([1.7  , 2.76 , 2.09 , 3.19 , 1.694, 1.573, 3.366, 2.596, 2.53 ,\n",
       "        1.221, 2.827, 3.465, 1.65 , 2.904, 2.42 , 2.94 , 1.3  ]))"
      ]
     },
     "execution_count": 11,
     "metadata": {},
     "output_type": "execute_result"
    }
   ],
   "source": [
    "X,Y"
   ]
  },
  {
   "cell_type": "code",
   "execution_count": 12,
   "id": "a97370cf",
   "metadata": {},
   "outputs": [],
   "source": [
    "learning_rate = 0.001\n",
    "training_steps = 1000\n",
    "display_steps = 50"
   ]
  },
  {
   "cell_type": "code",
   "execution_count": 13,
   "id": "388c233b",
   "metadata": {},
   "outputs": [
    {
     "data": {
      "text/plain": [
       "(-0.24799928, -1.3976781)"
      ]
     },
     "execution_count": 13,
     "metadata": {},
     "output_type": "execute_result"
    }
   ],
   "source": [
    "W = tf.Variable(np.random.randn(), name='weight')\n",
    "b = tf.Variable(np.random.randn(), name='bias')\n",
    "\n",
    "W.numpy(),b.numpy()"
   ]
  },
  {
   "cell_type": "code",
   "execution_count": 14,
   "id": "e1480496",
   "metadata": {},
   "outputs": [],
   "source": [
    "def linear_regression(x):\n",
    "    return W*x + b\n",
    "\n",
    "def mean_square(y_pred, y_true):\n",
    "    return tf.reduce_mean(tf.square(y_pred - y_true))\n",
    "\n",
    "#stochastic gradient descent\n",
    "optimizer = tf.optimizers.SGD(learning_rate)"
   ]
  },
  {
   "cell_type": "code",
   "execution_count": 15,
   "id": "bedfacfc",
   "metadata": {},
   "outputs": [],
   "source": [
    "def run_optimization():\n",
    "    with tf.GradientTape() as tape:\n",
    "        #automatic differentiation\n",
    "        y_pred = linear_regression(X)\n",
    "        loss = mean_square(y_pred, Y)\n",
    "        \n",
    "    gradient = tape.gradient(loss, [W,b])\n",
    "    \n",
    "    optimizer.apply_gradients(zip(gradient, [W,b]))"
   ]
  },
  {
   "cell_type": "code",
   "execution_count": 18,
   "id": "7d9db569",
   "metadata": {},
   "outputs": [
    {
     "name": "stdout",
     "output_type": "stream",
     "text": [
      "step: 0, loss: 0.484707, W: 0.482225, b: -0.835975\n",
      "step: 50, loss: 0.476771, W: 0.479442, b: -0.816250\n",
      "step: 100, loss: 0.469025, W: 0.476693, b: -0.796762\n",
      "step: 150, loss: 0.461465, W: 0.473978, b: -0.777509\n",
      "step: 200, loss: 0.454086, W: 0.471295, b: -0.758489\n",
      "step: 250, loss: 0.446885, W: 0.468644, b: -0.739698\n",
      "step: 300, loss: 0.439856, W: 0.466026, b: -0.721134\n",
      "step: 350, loss: 0.432995, W: 0.463439, b: -0.702793\n",
      "step: 400, loss: 0.426300, W: 0.460883, b: -0.684675\n",
      "step: 450, loss: 0.419765, W: 0.458358, b: -0.666774\n",
      "step: 500, loss: 0.413386, W: 0.455864, b: -0.649090\n",
      "step: 550, loss: 0.407161, W: 0.453400, b: -0.631619\n",
      "step: 600, loss: 0.401085, W: 0.450965, b: -0.614359\n",
      "step: 650, loss: 0.395155, W: 0.448560, b: -0.597308\n",
      "step: 700, loss: 0.389367, W: 0.446184, b: -0.580462\n",
      "step: 750, loss: 0.383717, W: 0.443836, b: -0.563819\n",
      "step: 800, loss: 0.378204, W: 0.441517, b: -0.547377\n",
      "step: 850, loss: 0.372822, W: 0.439226, b: -0.531133\n",
      "step: 900, loss: 0.367570, W: 0.436962, b: -0.515086\n",
      "step: 950, loss: 0.362444, W: 0.434726, b: -0.499232\n"
     ]
    }
   ],
   "source": [
    "for step in range(training_steps):\n",
    "    run_optimization()\n",
    "    \n",
    "    if (step) % display_steps == 0:\n",
    "        pred = linear_regression(X)\n",
    "        loss = mean_square(pred, Y)\n",
    "        print(\"step: %i, loss: %f, W: %f, b: %f\" % (step, loss, W.numpy(), b.numpy()))"
   ]
  },
  {
   "cell_type": "code",
   "execution_count": 17,
   "id": "c0ce77ab",
   "metadata": {},
   "outputs": [
    {
     "data": {
      "image/png": "[encoded data removed]",
      "text/plain": [
       "<Figure size 640x480 with 1 Axes>"
      ]
     },
     "metadata": {},
     "output_type": "display_data"
    }
   ],
   "source": [
    "# Graphic display\n",
    "plt.plot(X, Y, 'ro', label='Original data')\n",
    "plt.plot(X, np.array(W * X + b), label='Fitted line')\n",
    "plt.legend()\n",
    "plt.show()"
   ]
  },
  {
   "cell_type": "code",
   "execution_count": 34,
   "id": "043eac7f",
   "metadata": {},
   "outputs": [],
   "source": [
    "num_features = 28*28 # 784 features for 28*28 pixels value\n",
    "num_classes = 10 # for 0 to 9 digit\n",
    "batch_size = 256"
   ]
  },
  {
   "cell_type": "code",
   "execution_count": 28,
   "id": "c5cb0eb0",
   "metadata": {},
   "outputs": [],
   "source": [
    "from tensorflow.keras.datasets import mnist\n",
    "\n",
    "(x_train, y_train), (x_test, y_test) = mnist.load_data()"
   ]
  },
  {
   "cell_type": "code",
   "execution_count": 29,
   "id": "23bdc9a3",
   "metadata": {},
   "outputs": [
    {
     "data": {
      "text/plain": [
       "((60000, 28, 28), (60000,))"
      ]
     },
     "execution_count": 29,
     "metadata": {},
     "output_type": "execute_result"
    }
   ],
   "source": [
    "x_train.shape, y_train.shape"
   ]
  },
  {
   "cell_type": "code",
   "execution_count": 32,
   "id": "55cbdc34",
   "metadata": {},
   "outputs": [],
   "source": [
    "x_train, x_test = np.array(x_train, np.float32), np.array(x_test, np.float32)\n",
    "x_train, x_test = x_train.reshape([-1, num_features]), x_test.reshape([-1, num_features])\n",
    "x_train, x_test = x_train/255.0, x_test/255.0"
   ]
  },
  {
   "cell_type": "code",
   "execution_count": 35,
   "id": "d7c385fc",
   "metadata": {},
   "outputs": [
    {
     "name": "stderr",
     "output_type": "stream",
     "text": [
      "2023-06-07 14:00:03.280862: W tensorflow/tsl/framework/cpu_allocator_impl.cc:82] Allocation of 188160000 exceeds 10% of free system memory.\n"
     ]
    }
   ],
   "source": [
    "# Use tf.data API to shuffle and batch data.\n",
    "train_data = tf.data.Dataset.from_tensor_slices((x_train, y_train))\n",
    "train_data = train_data.repeat().shuffle(5000).batch(batch_size).prefetch(1)"
   ]
  },
  {
   "cell_type": "code",
   "execution_count": 39,
   "id": "6edc93ed",
   "metadata": {},
   "outputs": [],
   "source": [
    "W = tf.Variable(tf.ones([num_classes, num_features]), name='weight')\n",
    "b = tf.Variable(tf.zeros([num_classes]), name='bias')"
   ]
  },
  {
   "cell_type": "code",
   "execution_count": 61,
   "id": "c8f32f31",
   "metadata": {},
   "outputs": [
    {
     "data": {
      "text/plain": [
       "(<tf.Variable 'weight:0' shape=(784, 10) dtype=float32, numpy=\n",
       " array([[1., 1., 1., ..., 1., 1., 1.],\n",
       "        [1., 1., 1., ..., 1., 1., 1.],\n",
       "        [1., 1., 1., ..., 1., 1., 1.],\n",
       "        ...,\n",
       "        [1., 1., 1., ..., 1., 1., 1.],\n",
       "        [1., 1., 1., ..., 1., 1., 1.],\n",
       "        [1., 1., 1., ..., 1., 1., 1.]], dtype=float32)>,\n",
       " <tf.Variable 'bias:0' shape=(10,) dtype=float32, numpy=\n",
       " array([-0.01147551,  0.02376843, -0.00454773, -0.00378904,  0.00328921,\n",
       "         0.00059585, -0.00243959,  0.00769089, -0.01241477, -0.00067772],\n",
       "       dtype=float32)>)"
      ]
     },
     "execution_count": 61,
     "metadata": {},
     "output_type": "execute_result"
    }
   ],
   "source": [
    "W,b"
   ]
  },
  {
   "cell_type": "code",
   "execution_count": 40,
   "id": "e2c1e666",
   "metadata": {},
   "outputs": [],
   "source": [
    "def logistic_regression(x):\n",
    "    return tf.nn.softmax(tf.matmul(x,W) + b)\n",
    "\n",
    "def cross_entropy(y_pred, y_true):\n",
    "    y_true = tf.one_hot(y_true, depth=num_classes)\n",
    "    y_pred = tf.clip_by_value(y_pred, 1e-9, 1.)\n",
    "    # Compute cross-entropy.\n",
    "    return tf.reduce_mean(-tf.reduce_sum(y_true * tf.math.log(y_pred),1))\n",
    "\n",
    "def accuracy(y_pred, y_true):\n",
    "    correct_prediction = tf.equal(tf.argmax(y_pred, 1), tf.cast(y_true, tf.int64))\n",
    "    return tf.reduce_mean(tf.cast(correct_prediction, tf.float32))\n",
    "\n",
    "# Stochastic gradient descent optimizer.\n",
    "optimizer = tf.optimizers.SGD(learning_rate)"
   ]
  },
  {
   "cell_type": "code",
   "execution_count": 53,
   "id": "338501ac",
   "metadata": {},
   "outputs": [],
   "source": [
    "def run_optimization2(x,y):\n",
    "    \n",
    "    with tf.GradientTape() as tape:\n",
    "        y_pred = logistic_regression(x)\n",
    "        loss = cross_entropy(y_pred,y)\n",
    "    \n",
    "    gradient = tape.gradient(loss, [W,b])\n",
    "    \n",
    "    optimizer.apply_gradients(zip(gradient, [W,b]))"
   ]
  },
  {
   "cell_type": "code",
   "execution_count": 55,
   "id": "3db260fd",
   "metadata": {},
   "outputs": [
    {
     "name": "stdout",
     "output_type": "stream",
     "text": [
      "step: 50, loss: 2.249844, accuracy: 0.640625\n",
      "step: 100, loss: 2.203681, accuracy: 0.703125\n",
      "step: 150, loss: 2.157862, accuracy: 0.710938\n",
      "step: 200, loss: 2.097057, accuracy: 0.742188\n",
      "step: 250, loss: 2.059357, accuracy: 0.730469\n",
      "step: 300, loss: 2.001390, accuracy: 0.792969\n",
      "step: 350, loss: 1.973078, accuracy: 0.777344\n",
      "step: 400, loss: 1.928221, accuracy: 0.707031\n",
      "step: 450, loss: 1.871114, accuracy: 0.777344\n",
      "step: 500, loss: 1.872411, accuracy: 0.718750\n",
      "step: 550, loss: 1.840522, accuracy: 0.730469\n",
      "step: 600, loss: 1.803590, accuracy: 0.769531\n",
      "step: 650, loss: 1.742047, accuracy: 0.785156\n",
      "step: 700, loss: 1.722640, accuracy: 0.781250\n",
      "step: 750, loss: 1.673572, accuracy: 0.761719\n",
      "step: 800, loss: 1.669089, accuracy: 0.789062\n",
      "step: 850, loss: 1.700266, accuracy: 0.691406\n",
      "step: 900, loss: 1.619535, accuracy: 0.777344\n",
      "step: 950, loss: 1.555039, accuracy: 0.777344\n",
      "step: 1000, loss: 1.599901, accuracy: 0.746094\n"
     ]
    }
   ],
   "source": [
    "for step, (batch_x, batch_y) in enumerate(train_data.take(training_steps), 1):\n",
    "    # Run the optimization to update W and b values.\n",
    "    run_optimization2(batch_x, batch_y)\n",
    "    \n",
    "    if step % display_steps == 0:\n",
    "        pred = logistic_regression(batch_x)\n",
    "        loss = cross_entropy(pred, batch_y)\n",
    "        acc = accuracy(pred, batch_y)\n",
    "        print(\"step: %i, loss: %f, accuracy: %f\" % (step, loss, acc))"
   ]
  },
  {
   "cell_type": "code",
   "execution_count": 56,
   "id": "51e68917",
   "metadata": {},
   "outputs": [
    {
     "name": "stdout",
     "output_type": "stream",
     "text": [
      "Test Accuracy: 0.790000\n"
     ]
    }
   ],
   "source": [
    "# Test model on validation set.\n",
    "pred = logistic_regression(x_test)\n",
    "print(\"Test Accuracy: %f\" % accuracy(pred, y_test))"
   ]
  },
  {
   "cell_type": "code",
   "execution_count": 60,
   "id": "3ac80d92",
   "metadata": {},
   "outputs": [
    {
     "data": {
      "image/png": "[encoded data removed]",
      "text/plain": [
       "<Figure size 640x480 with 1 Axes>"
      ]
     },
     "metadata": {},
     "output_type": "display_data"
    },
    {
     "name": "stdout",
     "output_type": "stream",
     "text": [
      "Model prediction: 7\n"
     ]
    },
    {
     "data": {
      "image/png": "[encoded data removed]",
      "text/plain": [
       "<Figure size 640x480 with 1 Axes>"
      ]
     },
     "metadata": {},
     "output_type": "display_data"
    },
    {
     "name": "stdout",
     "output_type": "stream",
     "text": [
      "Model prediction: 2\n"
     ]
    },
    {
     "data": {
      "image/png": "[encoded data removed]",
      "text/plain": [
       "<Figure size 640x480 with 1 Axes>"
      ]
     },
     "metadata": {},
     "output_type": "display_data"
    },
    {
     "name": "stdout",
     "output_type": "stream",
     "text": [
      "Model prediction: 1\n"
     ]
    },
    {
     "data": {
      "image/png": "[encoded data removed]",
      "text/plain": [
       "<Figure size 640x480 with 1 Axes>"
      ]
     },
     "metadata": {},
     "output_type": "display_data"
    },
    {
     "name": "stdout",
     "output_type": "stream",
     "text": [
      "Model prediction: 0\n"
     ]
    },
    {
     "data": {
      "image/png": "[encoded data removed]",
      "text/plain": [
       "<Figure size 640x480 with 1 Axes>"
      ]
     },
     "metadata": {},
     "output_type": "display_data"
    },
    {
     "name": "stdout",
     "output_type": "stream",
     "text": [
      "Model prediction: 4\n"
     ]
    }
   ],
   "source": [
    "# Predict 5 images from validation set.\n",
    "n_images = 5\n",
    "test_images = x_test[:n_images]\n",
    "predictions = logistic_regression(test_images)\n",
    "\n",
    "# Display image and model prediction.\n",
    "for i in range(n_images):\n",
    "    plt.imshow(np.reshape(test_images[i], [28, 28]), cmap='gray')\n",
    "    plt.show()\n",
    "    print(\"Model prediction: %i\" % np.argmax(predictions.numpy()[i]))"
   ]
  }
 ],
 "metadata": {
  "kernelspec": {
   "display_name": "Python 3 (ipykernel)",
   "language": "python",
   "name": "python3"
  },
  "language_info": {
   "codemirror_mode": {
    "name": "ipython",
    "version": 3
   },
   "file_extension": ".py",
   "mimetype": "text/x-python",
   "name": "python",
   "nbconvert_exporter": "python",
   "pygments_lexer": "ipython3",
   "version": "3.10.6"
  }
 },
 "nbformat": 4,
 "nbformat_minor": 5
}
